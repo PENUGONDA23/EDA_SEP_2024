{
 "cells": [
  {
   "cell_type": "markdown",
   "id": "da6b38b7-d87d-49a6-85b5-795e620057db",
   "metadata": {},
   "source": [
    "** Import the packages **\n"
   ]
  },
  {
   "cell_type": "code",
   "execution_count": 1,
   "id": "ecd946b1-bd60-4b77-bc53-d8fab39f02e7",
   "metadata": {},
   "outputs": [],
   "source": [
    "import numpy as np\n",
    "import  pandas as pd\n",
    "import matplotlib.pyplot as plt\n",
    "import seaborn as sns"
   ]
  },
  {
   "cell_type": "markdown",
   "id": "bd618bab-fc6e-4fe0-a465-4ac3686e0833",
   "metadata": {},
   "source": [
    "**step-1 create a dataframe**\n",
    "- we can create DF with list & dictionary"
   ]
  },
  {
   "cell_type": "code",
   "execution_count": 2,
   "id": "15fad77f-baac-4a16-887a-8734424080a3",
   "metadata": {},
   "outputs": [
    {
     "data": {
      "text/plain": [
       "pandas.core.frame.DataFrame"
      ]
     },
     "execution_count": 2,
     "metadata": {},
     "output_type": "execute_result"
    }
   ],
   "source": [
    "import pandas as pd\n",
    "df1=pd.DataFrame()\n",
    "type(df1)"
   ]
  },
  {
   "cell_type": "code",
   "execution_count": 3,
   "id": "6549d1db-516c-4a08-a9e8-ab34b45808f1",
   "metadata": {},
   "outputs": [
    {
     "data": {
      "text/plain": [
       "pandas.core.frame.DataFrame"
      ]
     },
     "execution_count": 3,
     "metadata": {},
     "output_type": "execute_result"
    }
   ],
   "source": [
    "type(df1)"
   ]
  },
  {
   "cell_type": "code",
   "execution_count": 4,
   "id": "e3f6d554-9d64-44b5-9ea2-ffe346a4d052",
   "metadata": {},
   "outputs": [
    {
     "data": {
      "text/html": [
       "<div>\n",
       "<style scoped>\n",
       "    .dataframe tbody tr th:only-of-type {\n",
       "        vertical-align: middle;\n",
       "    }\n",
       "\n",
       "    .dataframe tbody tr th {\n",
       "        vertical-align: top;\n",
       "    }\n",
       "\n",
       "    .dataframe thead th {\n",
       "        text-align: right;\n",
       "    }\n",
       "</style>\n",
       "<table border=\"1\" class=\"dataframe\">\n",
       "  <thead>\n",
       "    <tr style=\"text-align: right;\">\n",
       "      <th></th>\n",
       "      <th>0</th>\n",
       "    </tr>\n",
       "  </thead>\n",
       "  <tbody>\n",
       "    <tr>\n",
       "      <th>0</th>\n",
       "      <td>Aravind</td>\n",
       "    </tr>\n",
       "    <tr>\n",
       "      <th>1</th>\n",
       "      <td>Bhumika</td>\n",
       "    </tr>\n",
       "    <tr>\n",
       "      <th>2</th>\n",
       "      <td>Mayank</td>\n",
       "    </tr>\n",
       "  </tbody>\n",
       "</table>\n",
       "</div>"
      ],
      "text/plain": [
       "         0\n",
       "0  Aravind\n",
       "1  Bhumika\n",
       "2   Mayank"
      ]
     },
     "execution_count": 4,
     "metadata": {},
     "output_type": "execute_result"
    }
   ],
   "source": [
    "name=['Aravind','Bhumika','Mayank']\n",
    "pd.DataFrame(name)"
   ]
  },
  {
   "cell_type": "code",
   "execution_count": 5,
   "id": "319a95f2-c6f2-4cd3-98e2-ec08aaff53c1",
   "metadata": {},
   "outputs": [
    {
     "data": {
      "text/html": [
       "<div>\n",
       "<style scoped>\n",
       "    .dataframe tbody tr th:only-of-type {\n",
       "        vertical-align: middle;\n",
       "    }\n",
       "\n",
       "    .dataframe tbody tr th {\n",
       "        vertical-align: top;\n",
       "    }\n",
       "\n",
       "    .dataframe thead th {\n",
       "        text-align: right;\n",
       "    }\n",
       "</style>\n",
       "<table border=\"1\" class=\"dataframe\">\n",
       "  <thead>\n",
       "    <tr style=\"text-align: right;\">\n",
       "      <th></th>\n",
       "      <th>0</th>\n",
       "    </tr>\n",
       "  </thead>\n",
       "  <tbody>\n",
       "    <tr>\n",
       "      <th>0</th>\n",
       "      <td>Aravind</td>\n",
       "    </tr>\n",
       "    <tr>\n",
       "      <th>1</th>\n",
       "      <td>Bhumika</td>\n",
       "    </tr>\n",
       "    <tr>\n",
       "      <th>2</th>\n",
       "      <td>Mayank</td>\n",
       "    </tr>\n",
       "  </tbody>\n",
       "</table>\n",
       "</div>"
      ],
      "text/plain": [
       "         0\n",
       "0  Aravind\n",
       "1  Bhumika\n",
       "2   Mayank"
      ]
     },
     "execution_count": 5,
     "metadata": {},
     "output_type": "execute_result"
    }
   ],
   "source": [
    "name=['Aravind','Bhumika','Mayank']\n",
    "df1=pd.DataFrame(name)\n",
    "df1"
   ]
  },
  {
   "cell_type": "markdown",
   "id": "7c9c53ea-839c-4826-9b51-154f357666dd",
   "metadata": {},
   "source": [
    "**Step-3 Add columns**"
   ]
  },
  {
   "cell_type": "code",
   "execution_count": 6,
   "id": "631b46b8-5be1-4162-9e7a-2eaf23f0a9da",
   "metadata": {},
   "outputs": [
    {
     "data": {
      "text/html": [
       "<div>\n",
       "<style scoped>\n",
       "    .dataframe tbody tr th:only-of-type {\n",
       "        vertical-align: middle;\n",
       "    }\n",
       "\n",
       "    .dataframe tbody tr th {\n",
       "        vertical-align: top;\n",
       "    }\n",
       "\n",
       "    .dataframe thead th {\n",
       "        text-align: right;\n",
       "    }\n",
       "</style>\n",
       "<table border=\"1\" class=\"dataframe\">\n",
       "  <thead>\n",
       "    <tr style=\"text-align: right;\">\n",
       "      <th></th>\n",
       "      <th>Names</th>\n",
       "    </tr>\n",
       "  </thead>\n",
       "  <tbody>\n",
       "    <tr>\n",
       "      <th>0</th>\n",
       "      <td>Aravind</td>\n",
       "    </tr>\n",
       "    <tr>\n",
       "      <th>1</th>\n",
       "      <td>Bhumika</td>\n",
       "    </tr>\n",
       "    <tr>\n",
       "      <th>2</th>\n",
       "      <td>Mayank</td>\n",
       "    </tr>\n",
       "  </tbody>\n",
       "</table>\n",
       "</div>"
      ],
      "text/plain": [
       "     Names\n",
       "0  Aravind\n",
       "1  Bhumika\n",
       "2   Mayank"
      ]
     },
     "execution_count": 6,
     "metadata": {},
     "output_type": "execute_result"
    }
   ],
   "source": [
    "df1=pd.DataFrame(name, columns=['Names'])\n",
    "df1"
   ]
  },
  {
   "cell_type": "markdown",
   "id": "a42d2447-0cfc-4db6-955c-fe13345dc308",
   "metadata": {},
   "source": [
    "**Step 4: create dataframe usinng 2 lists**"
   ]
  },
  {
   "cell_type": "code",
   "execution_count": 7,
   "id": "fc512e81-aa66-4865-a42d-e12cc64f1432",
   "metadata": {},
   "outputs": [
    {
     "data": {
      "text/html": [
       "<div>\n",
       "<style scoped>\n",
       "    .dataframe tbody tr th:only-of-type {\n",
       "        vertical-align: middle;\n",
       "    }\n",
       "\n",
       "    .dataframe tbody tr th {\n",
       "        vertical-align: top;\n",
       "    }\n",
       "\n",
       "    .dataframe thead th {\n",
       "        text-align: right;\n",
       "    }\n",
       "</style>\n",
       "<table border=\"1\" class=\"dataframe\">\n",
       "  <thead>\n",
       "    <tr style=\"text-align: right;\">\n",
       "      <th></th>\n",
       "      <th>Name</th>\n",
       "      <th>Age</th>\n",
       "    </tr>\n",
       "  </thead>\n",
       "  <tbody>\n",
       "    <tr>\n",
       "      <th>0</th>\n",
       "      <td>Aravind</td>\n",
       "      <td>20</td>\n",
       "    </tr>\n",
       "    <tr>\n",
       "      <th>1</th>\n",
       "      <td>Bhumika</td>\n",
       "      <td>20</td>\n",
       "    </tr>\n",
       "    <tr>\n",
       "      <th>2</th>\n",
       "      <td>Mayank</td>\n",
       "      <td>7</td>\n",
       "    </tr>\n",
       "  </tbody>\n",
       "</table>\n",
       "</div>"
      ],
      "text/plain": [
       "      Name  Age\n",
       "0  Aravind   20\n",
       "1  Bhumika   20\n",
       "2   Mayank    7"
      ]
     },
     "execution_count": 7,
     "metadata": {},
     "output_type": "execute_result"
    }
   ],
   "source": [
    "name=['Aravind','Bhumika','Mayank']\n",
    "age=[20,20,7]\n",
    "df1=pd.DataFrame(zip(name,age), columns=['Name','Age'])\n",
    "df1"
   ]
  },
  {
   "cell_type": "markdown",
   "id": "1dc4bbf4-f556-4400-8f84-04a5d83fd0c6",
   "metadata": {},
   "source": [
    "**step 5: create a dataframe using three list**"
   ]
  },
  {
   "cell_type": "code",
   "execution_count": 8,
   "id": "e864b9be-c730-4561-8c5d-c6e2a9f6f076",
   "metadata": {},
   "outputs": [
    {
     "data": {
      "text/html": [
       "<div>\n",
       "<style scoped>\n",
       "    .dataframe tbody tr th:only-of-type {\n",
       "        vertical-align: middle;\n",
       "    }\n",
       "\n",
       "    .dataframe tbody tr th {\n",
       "        vertical-align: top;\n",
       "    }\n",
       "\n",
       "    .dataframe thead th {\n",
       "        text-align: right;\n",
       "    }\n",
       "</style>\n",
       "<table border=\"1\" class=\"dataframe\">\n",
       "  <thead>\n",
       "    <tr style=\"text-align: right;\">\n",
       "      <th></th>\n",
       "      <th>Nmae</th>\n",
       "      <th>Age</th>\n",
       "      <th>City</th>\n",
       "    </tr>\n",
       "  </thead>\n",
       "  <tbody>\n",
       "    <tr>\n",
       "      <th>0</th>\n",
       "      <td>Aravind</td>\n",
       "      <td>20</td>\n",
       "      <td>Hyd</td>\n",
       "    </tr>\n",
       "    <tr>\n",
       "      <th>1</th>\n",
       "      <td>Bhumika</td>\n",
       "      <td>20</td>\n",
       "      <td>Vadodara</td>\n",
       "    </tr>\n",
       "    <tr>\n",
       "      <th>2</th>\n",
       "      <td>Mayank</td>\n",
       "      <td>7</td>\n",
       "      <td>USA</td>\n",
       "    </tr>\n",
       "  </tbody>\n",
       "</table>\n",
       "</div>"
      ],
      "text/plain": [
       "      Nmae  Age      City\n",
       "0  Aravind   20       Hyd\n",
       "1  Bhumika   20  Vadodara\n",
       "2   Mayank    7       USA"
      ]
     },
     "execution_count": 8,
     "metadata": {},
     "output_type": "execute_result"
    }
   ],
   "source": [
    "name=['Aravind','Bhumika','Mayank']\n",
    "age=[20,20,7]\n",
    "city=['Hyd','Vadodara','USA']\n",
    "cols=['Nmae','Age','City']\n",
    "df1=pd.DataFrame(zip(name,age,city), columns=cols)\n",
    "df1"
   ]
  },
  {
   "cell_type": "code",
   "execution_count": 9,
   "id": "60118ba3-77e2-4b59-9cea-f12fe9498a18",
   "metadata": {},
   "outputs": [
    {
     "data": {
      "text/html": [
       "<div>\n",
       "<style scoped>\n",
       "    .dataframe tbody tr th:only-of-type {\n",
       "        vertical-align: middle;\n",
       "    }\n",
       "\n",
       "    .dataframe tbody tr th {\n",
       "        vertical-align: top;\n",
       "    }\n",
       "\n",
       "    .dataframe thead th {\n",
       "        text-align: right;\n",
       "    }\n",
       "</style>\n",
       "<table border=\"1\" class=\"dataframe\">\n",
       "  <thead>\n",
       "    <tr style=\"text-align: right;\">\n",
       "      <th></th>\n",
       "      <th>Nmae</th>\n",
       "      <th>Age</th>\n",
       "      <th>City</th>\n",
       "    </tr>\n",
       "  </thead>\n",
       "  <tbody>\n",
       "    <tr>\n",
       "      <th>0</th>\n",
       "      <td>Aravind</td>\n",
       "      <td>20</td>\n",
       "      <td>Hyd</td>\n",
       "    </tr>\n",
       "    <tr>\n",
       "      <th>1</th>\n",
       "      <td>Bhumika</td>\n",
       "      <td>20</td>\n",
       "      <td>Vadodara</td>\n",
       "    </tr>\n",
       "    <tr>\n",
       "      <th>2</th>\n",
       "      <td>Mayank</td>\n",
       "      <td>7</td>\n",
       "      <td>USA</td>\n",
       "    </tr>\n",
       "  </tbody>\n",
       "</table>\n",
       "</div>"
      ],
      "text/plain": [
       "      Nmae  Age      City\n",
       "0  Aravind   20       Hyd\n",
       "1  Bhumika   20  Vadodara\n",
       "2   Mayank    7       USA"
      ]
     },
     "execution_count": 9,
     "metadata": {},
     "output_type": "execute_result"
    }
   ],
   "source": [
    "name=['Aravind','Bhumika','Mayank']\n",
    "age=[20,20,7]\n",
    "city=['Hyd','Vadodara','USA']\n",
    "cols=['Nmae','Age','City']\n",
    "df1=pd.DataFrame(zip(name,age,city), columns=cols)\n",
    "df1"
   ]
  },
  {
   "cell_type": "markdown",
   "id": "14f58224-6a9d-4f93-b02b-b395f4723b85",
   "metadata": {},
   "source": [
    "**step-6 change the index**"
   ]
  },
  {
   "cell_type": "code",
   "execution_count": 10,
   "id": "6de0fdf6-86fc-4ed3-b949-fbe551c39daa",
   "metadata": {},
   "outputs": [
    {
     "ename": "SyntaxError",
     "evalue": "invalid syntax (2441611488.py, line 1)",
     "output_type": "error",
     "traceback": [
      "\u001b[1;36m  Cell \u001b[1;32mIn[10], line 1\u001b[1;36m\u001b[0m\n\u001b[1;33m    - pd.dataframe takes 3 arguments, data, indes & columns\u001b[0m\n\u001b[1;37m                   ^\u001b[0m\n\u001b[1;31mSyntaxError\u001b[0m\u001b[1;31m:\u001b[0m invalid syntax\n"
     ]
    }
   ],
   "source": [
    "- pd.dataframe takes 3 arguments, data, indes & columns"
   ]
  },
  {
   "cell_type": "code",
   "execution_count": null,
   "id": "1c2837d3-c4d0-47ff-9db0-675c400246c1",
   "metadata": {},
   "outputs": [],
   "source": [
    "name=['Aravind','Bhumika','Mayank']\n",
    "age=[20,20,7]\n",
    "city=['Hyd','Vadodara','USA']\n",
    "cols=['Name','Age','City']\n",
    "idx=['a','b','c']\n",
    "df1=pd.DataFrame(zip(name,age,city), index=idx, columns=cols)\n",
    "df1"
   ]
  },
  {
   "cell_type": "code",
   "execution_count": null,
   "id": "37e84545-bb15-4c1e-8919-b223b681a6b6",
   "metadata": {},
   "outputs": [],
   "source": [
    "**step 7 : add new column on already existed dataframe**\n",
    "\n",
    "- assume that dataframe already available and now need to addd new column\n",
    "\n",
    "- new column values alsso in a form of list\n",
    "\n",
    "- the length of the list equal to total number of rows\n",
    "\n",
    "- df1[newcol]=list"
   ]
  },
  {
   "cell_type": "code",
   "execution_count": null,
   "id": "3f65c692-14ae-4cf2-8164-be3c62f52390",
   "metadata": {},
   "outputs": [],
   "source": [
    "salary=['600','300','200']\n",
    "df1['salaree']=salary\n",
    "df1"
   ]
  },
  {
   "cell_type": "code",
   "execution_count": null,
   "id": "41578e7e-f9cc-4c56-bfd2-de56769a469b",
   "metadata": {},
   "outputs": [],
   "source": [
    "education=['lkg','ukg']\n",
    "df1['edu']=education\n",
    "df1"
   ]
  },
  {
   "cell_type": "markdown",
   "id": "a4a1f9c7-9686-4c55-b43b-0378d868a324",
   "metadata": {},
   "source": [
    "***ValueError: Length of values (2) does not match length of index (3)**\n",
    "\n",
    "- length of index should match length of values"
   ]
  },
  {
   "cell_type": "code",
   "execution_count": null,
   "id": "381cef3f-44e1-4b0c-8108-7db649dd624a",
   "metadata": {},
   "outputs": [],
   "source": [
    "**step 8: change the values of already existed column**\n",
    "\n",
    "- if you want to add new column or if you want to modify the values of old column, the approach is same and syntax is same\n",
    "\n",
    "- in both cases we need to make a list of values first & len of list should be equal to total number of rows\n",
    "\n",
    "    - df['new column name'] = list\n",
    "\n",
    "- to modify old columnn name\n",
    "\n",
    "    -df['old column name'] = list"
   ]
  },
  {
   "cell_type": "code",
   "execution_count": null,
   "id": "94f2fb37-df62-481b-a673-7e924bbdb56e",
   "metadata": {},
   "outputs": [],
   "source": [
    "**task**\n",
    "\n",
    "- create 3 list \n",
    "\n",
    "- number list from 1to 10 ; square list 1 to 10; cube list from 1 to 10\n",
    "\n",
    "- create dataframe"
   ]
  },
  {
   "cell_type": "code",
   "execution_count": null,
   "id": "a83ed453-9ee7-47be-9bb7-10aa508489aa",
   "metadata": {},
   "outputs": [],
   "source": [
    "numbers= [i for i in range(1,10)]\n",
    "squre= [i*i for i in range (1,10)]\n",
    "cube= [i*i*i for i in range(1,10)]\n",
    "cols=['X','X^2','X^3']\n",
    "df1=pd.DataFrame(zip(numbers,squre,cube), columns=cols)\n",
    "df1\n"
   ]
  },
  {
   "cell_type": "code",
   "execution_count": null,
   "id": "2eda269a-210b-4856-9d52-13ec52367276",
   "metadata": {},
   "outputs": [],
   "source": [
    "import math\n",
    "sqrroot=[ round(math.sqrt(i),2) for i in range(1,10)]  \n",
    "df1['sqrroot']=sqrroot\n",
    "df1"
   ]
  },
  {
   "cell_type": "markdown",
   "id": "852eebbd-2e99-44e4-8f1b-eaa8f9f25188",
   "metadata": {},
   "source": [
    "** creating empty DataFrame and adding colummns**\n"
   ]
  },
  {
   "cell_type": "code",
   "execution_count": 19,
   "id": "f6c65485-928d-4ba8-ad1c-60064bb99a7b",
   "metadata": {},
   "outputs": [
    {
     "data": {
      "text/html": [
       "<div>\n",
       "<style scoped>\n",
       "    .dataframe tbody tr th:only-of-type {\n",
       "        vertical-align: middle;\n",
       "    }\n",
       "\n",
       "    .dataframe tbody tr th {\n",
       "        vertical-align: top;\n",
       "    }\n",
       "\n",
       "    .dataframe thead th {\n",
       "        text-align: right;\n",
       "    }\n",
       "</style>\n",
       "<table border=\"1\" class=\"dataframe\">\n",
       "  <thead>\n",
       "    <tr style=\"text-align: right;\">\n",
       "      <th></th>\n",
       "      <th>X^2</th>\n",
       "      <th>x^3</th>\n",
       "    </tr>\n",
       "  </thead>\n",
       "  <tbody>\n",
       "    <tr>\n",
       "      <th>0</th>\n",
       "      <td>1</td>\n",
       "      <td>1</td>\n",
       "    </tr>\n",
       "    <tr>\n",
       "      <th>1</th>\n",
       "      <td>4</td>\n",
       "      <td>8</td>\n",
       "    </tr>\n",
       "    <tr>\n",
       "      <th>2</th>\n",
       "      <td>9</td>\n",
       "      <td>27</td>\n",
       "    </tr>\n",
       "    <tr>\n",
       "      <th>3</th>\n",
       "      <td>16</td>\n",
       "      <td>64</td>\n",
       "    </tr>\n",
       "    <tr>\n",
       "      <th>4</th>\n",
       "      <td>25</td>\n",
       "      <td>125</td>\n",
       "    </tr>\n",
       "    <tr>\n",
       "      <th>5</th>\n",
       "      <td>36</td>\n",
       "      <td>216</td>\n",
       "    </tr>\n",
       "    <tr>\n",
       "      <th>6</th>\n",
       "      <td>49</td>\n",
       "      <td>343</td>\n",
       "    </tr>\n",
       "    <tr>\n",
       "      <th>7</th>\n",
       "      <td>64</td>\n",
       "      <td>512</td>\n",
       "    </tr>\n",
       "    <tr>\n",
       "      <th>8</th>\n",
       "      <td>81</td>\n",
       "      <td>729</td>\n",
       "    </tr>\n",
       "  </tbody>\n",
       "</table>\n",
       "</div>"
      ],
      "text/plain": [
       "   X^2  x^3\n",
       "0    1    1\n",
       "1    4    8\n",
       "2    9   27\n",
       "3   16   64\n",
       "4   25  125\n",
       "5   36  216\n",
       "6   49  343\n",
       "7   64  512\n",
       "8   81  729"
      ]
     },
     "execution_count": 19,
     "metadata": {},
     "output_type": "execute_result"
    }
   ],
   "source": [
    "numbers= [i for i in range(1,10)]\n",
    "squre= [i*i for i in range (1,10)]\n",
    "cube= [i*i*i for i in range(1,10)]\n",
    "cols=['X','X^2','X^3']\n",
    "df3=pd.DataFrame()\n",
    "df3['X^2']=squre\n",
    "df3['x^3']=cube\n",
    "#df3.drop('X',axis=1,inplace=True)\n",
    "df3"
   ]
  },
  {
   "cell_type": "code",
   "execution_count": null,
   "id": "9abca810-7413-4662-b117-e3ed6ae3f097",
   "metadata": {},
   "outputs": [],
   "source": [
    "** step 9 : drop a column **\n",
    "\n",
    "- drop is a method used to drop the columns & rows\n",
    "\n",
    "- **axis** argument\n",
    "\n",
    "    - axis=0 represents rows\n",
    "\n",
    "    - axis=1 represents columns\n",
    "\n",
    "- **inplace**\n",
    "\n",
    "    - inplace=True\n",
    "\n",
    "        - after dropping the rows or columns , the modified dataframe will be overwrite in the same name\n",
    "    \n",
    "    - inplace=False\n",
    "\n",
    "        - Modified dataframe need to save in a new variable name"
   ]
  },
  {
   "cell_type": "code",
   "execution_count": 20,
   "id": "0cee9dd9-9835-48a9-aa52-ea5fc44e1b55",
   "metadata": {},
   "outputs": [
    {
     "ename": "KeyError",
     "evalue": "\"['X'] not found in axis\"",
     "output_type": "error",
     "traceback": [
      "\u001b[1;31m---------------------------------------------------------------------------\u001b[0m",
      "\u001b[1;31mKeyError\u001b[0m                                  Traceback (most recent call last)",
      "Cell \u001b[1;32mIn[20], line 1\u001b[0m\n\u001b[1;32m----> 1\u001b[0m df3\u001b[38;5;241m.\u001b[39mdrop(\u001b[38;5;124m'\u001b[39m\u001b[38;5;124mX\u001b[39m\u001b[38;5;124m'\u001b[39m,axis\u001b[38;5;241m=\u001b[39m\u001b[38;5;241m1\u001b[39m,inplace\u001b[38;5;241m=\u001b[39m\u001b[38;5;28;01mTrue\u001b[39;00m)\n\u001b[0;32m      2\u001b[0m df3\n",
      "File \u001b[1;32m~\\anaconda3\\Lib\\site-packages\\pandas\\core\\frame.py:5344\u001b[0m, in \u001b[0;36mDataFrame.drop\u001b[1;34m(self, labels, axis, index, columns, level, inplace, errors)\u001b[0m\n\u001b[0;32m   5196\u001b[0m \u001b[38;5;28;01mdef\u001b[39;00m \u001b[38;5;21mdrop\u001b[39m(\n\u001b[0;32m   5197\u001b[0m     \u001b[38;5;28mself\u001b[39m,\n\u001b[0;32m   5198\u001b[0m     labels: IndexLabel \u001b[38;5;241m|\u001b[39m \u001b[38;5;28;01mNone\u001b[39;00m \u001b[38;5;241m=\u001b[39m \u001b[38;5;28;01mNone\u001b[39;00m,\n\u001b[1;32m   (...)\u001b[0m\n\u001b[0;32m   5205\u001b[0m     errors: IgnoreRaise \u001b[38;5;241m=\u001b[39m \u001b[38;5;124m\"\u001b[39m\u001b[38;5;124mraise\u001b[39m\u001b[38;5;124m\"\u001b[39m,\n\u001b[0;32m   5206\u001b[0m ) \u001b[38;5;241m-\u001b[39m\u001b[38;5;241m>\u001b[39m DataFrame \u001b[38;5;241m|\u001b[39m \u001b[38;5;28;01mNone\u001b[39;00m:\n\u001b[0;32m   5207\u001b[0m \u001b[38;5;250m    \u001b[39m\u001b[38;5;124;03m\"\"\"\u001b[39;00m\n\u001b[0;32m   5208\u001b[0m \u001b[38;5;124;03m    Drop specified labels from rows or columns.\u001b[39;00m\n\u001b[0;32m   5209\u001b[0m \n\u001b[1;32m   (...)\u001b[0m\n\u001b[0;32m   5342\u001b[0m \u001b[38;5;124;03m            weight  1.0     0.8\u001b[39;00m\n\u001b[0;32m   5343\u001b[0m \u001b[38;5;124;03m    \"\"\"\u001b[39;00m\n\u001b[1;32m-> 5344\u001b[0m     \u001b[38;5;28;01mreturn\u001b[39;00m \u001b[38;5;28msuper\u001b[39m()\u001b[38;5;241m.\u001b[39mdrop(\n\u001b[0;32m   5345\u001b[0m         labels\u001b[38;5;241m=\u001b[39mlabels,\n\u001b[0;32m   5346\u001b[0m         axis\u001b[38;5;241m=\u001b[39maxis,\n\u001b[0;32m   5347\u001b[0m         index\u001b[38;5;241m=\u001b[39mindex,\n\u001b[0;32m   5348\u001b[0m         columns\u001b[38;5;241m=\u001b[39mcolumns,\n\u001b[0;32m   5349\u001b[0m         level\u001b[38;5;241m=\u001b[39mlevel,\n\u001b[0;32m   5350\u001b[0m         inplace\u001b[38;5;241m=\u001b[39minplace,\n\u001b[0;32m   5351\u001b[0m         errors\u001b[38;5;241m=\u001b[39merrors,\n\u001b[0;32m   5352\u001b[0m     )\n",
      "File \u001b[1;32m~\\anaconda3\\Lib\\site-packages\\pandas\\core\\generic.py:4711\u001b[0m, in \u001b[0;36mNDFrame.drop\u001b[1;34m(self, labels, axis, index, columns, level, inplace, errors)\u001b[0m\n\u001b[0;32m   4709\u001b[0m \u001b[38;5;28;01mfor\u001b[39;00m axis, labels \u001b[38;5;129;01min\u001b[39;00m axes\u001b[38;5;241m.\u001b[39mitems():\n\u001b[0;32m   4710\u001b[0m     \u001b[38;5;28;01mif\u001b[39;00m labels \u001b[38;5;129;01mis\u001b[39;00m \u001b[38;5;129;01mnot\u001b[39;00m \u001b[38;5;28;01mNone\u001b[39;00m:\n\u001b[1;32m-> 4711\u001b[0m         obj \u001b[38;5;241m=\u001b[39m obj\u001b[38;5;241m.\u001b[39m_drop_axis(labels, axis, level\u001b[38;5;241m=\u001b[39mlevel, errors\u001b[38;5;241m=\u001b[39merrors)\n\u001b[0;32m   4713\u001b[0m \u001b[38;5;28;01mif\u001b[39;00m inplace:\n\u001b[0;32m   4714\u001b[0m     \u001b[38;5;28mself\u001b[39m\u001b[38;5;241m.\u001b[39m_update_inplace(obj)\n",
      "File \u001b[1;32m~\\anaconda3\\Lib\\site-packages\\pandas\\core\\generic.py:4753\u001b[0m, in \u001b[0;36mNDFrame._drop_axis\u001b[1;34m(self, labels, axis, level, errors, only_slice)\u001b[0m\n\u001b[0;32m   4751\u001b[0m         new_axis \u001b[38;5;241m=\u001b[39m axis\u001b[38;5;241m.\u001b[39mdrop(labels, level\u001b[38;5;241m=\u001b[39mlevel, errors\u001b[38;5;241m=\u001b[39merrors)\n\u001b[0;32m   4752\u001b[0m     \u001b[38;5;28;01melse\u001b[39;00m:\n\u001b[1;32m-> 4753\u001b[0m         new_axis \u001b[38;5;241m=\u001b[39m axis\u001b[38;5;241m.\u001b[39mdrop(labels, errors\u001b[38;5;241m=\u001b[39merrors)\n\u001b[0;32m   4754\u001b[0m     indexer \u001b[38;5;241m=\u001b[39m axis\u001b[38;5;241m.\u001b[39mget_indexer(new_axis)\n\u001b[0;32m   4756\u001b[0m \u001b[38;5;66;03m# Case for non-unique axis\u001b[39;00m\n\u001b[0;32m   4757\u001b[0m \u001b[38;5;28;01melse\u001b[39;00m:\n",
      "File \u001b[1;32m~\\anaconda3\\Lib\\site-packages\\pandas\\core\\indexes\\base.py:7000\u001b[0m, in \u001b[0;36mIndex.drop\u001b[1;34m(self, labels, errors)\u001b[0m\n\u001b[0;32m   6998\u001b[0m \u001b[38;5;28;01mif\u001b[39;00m mask\u001b[38;5;241m.\u001b[39many():\n\u001b[0;32m   6999\u001b[0m     \u001b[38;5;28;01mif\u001b[39;00m errors \u001b[38;5;241m!=\u001b[39m \u001b[38;5;124m\"\u001b[39m\u001b[38;5;124mignore\u001b[39m\u001b[38;5;124m\"\u001b[39m:\n\u001b[1;32m-> 7000\u001b[0m         \u001b[38;5;28;01mraise\u001b[39;00m \u001b[38;5;167;01mKeyError\u001b[39;00m(\u001b[38;5;124mf\u001b[39m\u001b[38;5;124m\"\u001b[39m\u001b[38;5;132;01m{\u001b[39;00mlabels[mask]\u001b[38;5;241m.\u001b[39mtolist()\u001b[38;5;132;01m}\u001b[39;00m\u001b[38;5;124m not found in axis\u001b[39m\u001b[38;5;124m\"\u001b[39m)\n\u001b[0;32m   7001\u001b[0m     indexer \u001b[38;5;241m=\u001b[39m indexer[\u001b[38;5;241m~\u001b[39mmask]\n\u001b[0;32m   7002\u001b[0m \u001b[38;5;28;01mreturn\u001b[39;00m \u001b[38;5;28mself\u001b[39m\u001b[38;5;241m.\u001b[39mdelete(indexer)\n",
      "\u001b[1;31mKeyError\u001b[0m: \"['X'] not found in axis\""
     ]
    }
   ],
   "source": [
    "df3.drop('X',axis=1,inplace=True)\n",
    "df3"
   ]
  },
  {
   "cell_type": "code",
   "execution_count": null,
   "id": "f7490bc0-e071-40a5-a501-96b26d05a356",
   "metadata": {},
   "outputs": [],
   "source": [
    "**Step 10: rename the column**\n",
    "\n",
    "- rename the column required a mapper function\n",
    "\n",
    "- mapper is a dictionary\n",
    "\n",
    "- old name will be act as key\n",
    "\n",
    "- new name will be act as value"
   ]
  },
  {
   "cell_type": "code",
   "execution_count": null,
   "id": "86aedba4-efc7-41b8-9e22-2e8a1794673c",
   "metadata": {},
   "outputs": [],
   "source": [
    "df3\n",
    "d={'X^2':'xSquare'}\n",
    "df3.rename(columns=d)\n"
   ]
  },
  {
   "cell_type": "markdown",
   "id": "cfac2d16-86a9-4ab7-ae6f-785932829a48",
   "metadata": {},
   "source": [
    "**How to get all columns**"
   ]
  },
  {
   "cell_type": "code",
   "execution_count": 21,
   "id": "a55a32c9-82a6-4095-a13c-4cb316ff5441",
   "metadata": {},
   "outputs": [
    {
     "data": {
      "text/plain": [
       "Index(['X^2', 'x^3'], dtype='object')"
      ]
     },
     "execution_count": 21,
     "metadata": {},
     "output_type": "execute_result"
    }
   ],
   "source": [
    "df3.columns"
   ]
  },
  {
   "cell_type": "markdown",
   "id": "1c35b414-09b7-496e-b951-b9e25a6ec9b8",
   "metadata": {},
   "source": [
    "**renaming all column name**"
   ]
  },
  {
   "cell_type": "code",
   "execution_count": 22,
   "id": "9a70453e-9d8e-424c-992f-92cca6928d8d",
   "metadata": {},
   "outputs": [
    {
     "data": {
      "text/html": [
       "<div>\n",
       "<style scoped>\n",
       "    .dataframe tbody tr th:only-of-type {\n",
       "        vertical-align: middle;\n",
       "    }\n",
       "\n",
       "    .dataframe tbody tr th {\n",
       "        vertical-align: top;\n",
       "    }\n",
       "\n",
       "    .dataframe thead th {\n",
       "        text-align: right;\n",
       "    }\n",
       "</style>\n",
       "<table border=\"1\" class=\"dataframe\">\n",
       "  <thead>\n",
       "    <tr style=\"text-align: right;\">\n",
       "      <th></th>\n",
       "      <th>SQUARE</th>\n",
       "      <th>CUBE</th>\n",
       "    </tr>\n",
       "  </thead>\n",
       "  <tbody>\n",
       "    <tr>\n",
       "      <th>0</th>\n",
       "      <td>1</td>\n",
       "      <td>1</td>\n",
       "    </tr>\n",
       "    <tr>\n",
       "      <th>1</th>\n",
       "      <td>4</td>\n",
       "      <td>8</td>\n",
       "    </tr>\n",
       "    <tr>\n",
       "      <th>2</th>\n",
       "      <td>9</td>\n",
       "      <td>27</td>\n",
       "    </tr>\n",
       "    <tr>\n",
       "      <th>3</th>\n",
       "      <td>16</td>\n",
       "      <td>64</td>\n",
       "    </tr>\n",
       "    <tr>\n",
       "      <th>4</th>\n",
       "      <td>25</td>\n",
       "      <td>125</td>\n",
       "    </tr>\n",
       "    <tr>\n",
       "      <th>5</th>\n",
       "      <td>36</td>\n",
       "      <td>216</td>\n",
       "    </tr>\n",
       "    <tr>\n",
       "      <th>6</th>\n",
       "      <td>49</td>\n",
       "      <td>343</td>\n",
       "    </tr>\n",
       "    <tr>\n",
       "      <th>7</th>\n",
       "      <td>64</td>\n",
       "      <td>512</td>\n",
       "    </tr>\n",
       "    <tr>\n",
       "      <th>8</th>\n",
       "      <td>81</td>\n",
       "      <td>729</td>\n",
       "    </tr>\n",
       "  </tbody>\n",
       "</table>\n",
       "</div>"
      ],
      "text/plain": [
       "   SQUARE  CUBE\n",
       "0       1     1\n",
       "1       4     8\n",
       "2       9    27\n",
       "3      16    64\n",
       "4      25   125\n",
       "5      36   216\n",
       "6      49   343\n",
       "7      64   512\n",
       "8      81   729"
      ]
     },
     "execution_count": 22,
     "metadata": {},
     "output_type": "execute_result"
    }
   ],
   "source": [
    "df3.columns=['SQUARE','CUBE']\n",
    "df3"
   ]
  },
  {
   "cell_type": "markdown",
   "id": "cbc011c3-d642-440c-bbe4-afee7adddb31",
   "metadata": {},
   "source": [
    "**step 12:How to select a column**"
   ]
  },
  {
   "cell_type": "code",
   "execution_count": 23,
   "id": "c2384f03-0d31-4d4a-9f59-45d3b2313f6a",
   "metadata": {},
   "outputs": [
    {
     "data": {
      "text/plain": [
       "0     1\n",
       "1     4\n",
       "2     9\n",
       "3    16\n",
       "4    25\n",
       "5    36\n",
       "6    49\n",
       "7    64\n",
       "8    81\n",
       "Name: SQUARE, dtype: int64"
      ]
     },
     "execution_count": 23,
     "metadata": {},
     "output_type": "execute_result"
    }
   ],
   "source": [
    "df3['SQUARE']"
   ]
  },
  {
   "cell_type": "code",
   "execution_count": 24,
   "id": "61003997-21ab-441c-baca-a634581c71a8",
   "metadata": {},
   "outputs": [
    {
     "data": {
      "text/plain": [
       "pandas.core.series.Series"
      ]
     },
     "execution_count": 24,
     "metadata": {},
     "output_type": "execute_result"
    }
   ],
   "source": [
    "type(df3['SQUARE'])"
   ]
  },
  {
   "cell_type": "markdown",
   "id": "e7027b77-2da5-4398-baf6-d4f0b82ebd05",
   "metadata": {},
   "source": [
    "- Dataframe and series both look same\n",
    "\n",
    "- Dataframe means a column name available\n",
    "\n",
    "- Series means no column name"
   ]
  },
  {
   "cell_type": "code",
   "execution_count": 25,
   "id": "12a27acf-b1c2-49cf-805f-39d36970b1ef",
   "metadata": {},
   "outputs": [
    {
     "data": {
      "text/plain": [
       "array([ 1,  4,  9, 16, 25, 36, 49, 64, 81], dtype=int64)"
      ]
     },
     "execution_count": 25,
     "metadata": {},
     "output_type": "execute_result"
    }
   ],
   "source": [
    "df3['SQUARE'].values"
   ]
  },
  {
   "cell_type": "markdown",
   "id": "1a9faaaf-6223-4ad4-b524-cab1ef7de488",
   "metadata": {},
   "source": [
    "- type: package\n",
    "\n",
    "- list : basic python\n",
    "\n",
    "- array: numpy\n",
    "\n",
    "- Tensor: Tensorflow"
   ]
  },
  {
   "cell_type": "code",
   "execution_count": 14,
   "id": "ede57937-c34f-4e07-990e-b2b15ec2b9cd",
   "metadata": {},
   "outputs": [
    {
     "data": {
      "text/plain": [
       "array([1, 2, 3])"
      ]
     },
     "execution_count": 14,
     "metadata": {},
     "output_type": "execute_result"
    }
   ],
   "source": [
    "# Covert list to array\n",
    "import numpy as np\n",
    "l=[1,2,3]\n",
    "np.array(l)"
   ]
  },
  {
   "cell_type": "code",
   "execution_count": 26,
   "id": "9d07e245-4d37-417d-82d0-43ccac5fee6d",
   "metadata": {},
   "outputs": [
    {
     "data": {
      "text/plain": [
       "pandas.core.frame.DataFrame"
      ]
     },
     "execution_count": 26,
     "metadata": {},
     "output_type": "execute_result"
    }
   ],
   "source": [
    "type(df3[['SQUARE']])"
   ]
  },
  {
   "cell_type": "code",
   "execution_count": 27,
   "id": "2869b088-ad11-4fcf-a2cd-46f432e32931",
   "metadata": {},
   "outputs": [
    {
     "data": {
      "text/plain": [
       "array([[ 1],\n",
       "       [ 4],\n",
       "       [ 9],\n",
       "       [16],\n",
       "       [25],\n",
       "       [36],\n",
       "       [49],\n",
       "       [64],\n",
       "       [81]], dtype=int64)"
      ]
     },
     "execution_count": 27,
     "metadata": {},
     "output_type": "execute_result"
    }
   ],
   "source": [
    "df3[['SQUARE']].values"
   ]
  },
  {
   "cell_type": "code",
   "execution_count": 28,
   "id": "55b01c88-3518-4bfa-b029-43ae721849d9",
   "metadata": {},
   "outputs": [
    {
     "data": {
      "text/plain": [
       "numpy.ndarray"
      ]
     },
     "execution_count": 28,
     "metadata": {},
     "output_type": "execute_result"
    }
   ],
   "source": [
    "type(df3[['SQUARE']].values)"
   ]
  },
  {
   "cell_type": "code",
   "execution_count": 29,
   "id": "451a34a8-abb8-4567-be17-f2090d20ae3f",
   "metadata": {},
   "outputs": [
    {
     "data": {
      "text/plain": [
       "(1, 2)"
      ]
     },
     "execution_count": 29,
     "metadata": {},
     "output_type": "execute_result"
    }
   ],
   "source": [
    "arr1=df3['SQUARE'].values\n",
    "arr2=df3[['SQUARE']].values\n",
    "arr1.ndim,arr2.ndim"
   ]
  },
  {
   "cell_type": "markdown",
   "id": "05dce7e1-cb63-4cf8-a64d-788a3b2add98",
   "metadata": {},
   "source": [
    "- the more square brackets the dimention of the array increase\n",
    "\n",
    "- []  single square is 1 dimension, [[]]  2 square brackets means 2 dimension and henceforth"
   ]
  },
  {
   "cell_type": "markdown",
   "id": "323b1dfa-0b66-4229-802f-7b5f37983cc2",
   "metadata": {},
   "source": [
    "**step 13: How to save the dataframe**"
   ]
  },
  {
   "cell_type": "code",
   "execution_count": null,
   "id": "cd0af231-635f-4688-8a65-1d929043773e",
   "metadata": {},
   "outputs": [],
   "source": []
  },
  {
   "cell_type": "code",
   "execution_count": 30,
   "id": "e4410d84-32b6-44ee-af79-1e247b8e820f",
   "metadata": {},
   "outputs": [],
   "source": [
    "df3.to_csv('data1.xlsx')"
   ]
  },
  {
   "cell_type": "code",
   "execution_count": 32,
   "id": "60e08446-a5b2-48a1-9d39-a2857f634134",
   "metadata": {},
   "outputs": [
    {
     "data": {
      "text/plain": [
       "NoneType"
      ]
     },
     "execution_count": 32,
     "metadata": {},
     "output_type": "execute_result"
    }
   ],
   "source": [
    "type(df3.to_csv('ffvsf.csv'))"
   ]
  },
  {
   "cell_type": "code",
   "execution_count": null,
   "id": "311782fb-8136-4576-9c72-19944081638d",
   "metadata": {},
   "outputs": [],
   "source": []
  }
 ],
 "metadata": {
  "kernelspec": {
   "display_name": "Python 3 (ipykernel)",
   "language": "python",
   "name": "python3"
  },
  "language_info": {
   "codemirror_mode": {
    "name": "ipython",
    "version": 3
   },
   "file_extension": ".py",
   "mimetype": "text/x-python",
   "name": "python",
   "nbconvert_exporter": "python",
   "pygments_lexer": "ipython3",
   "version": "3.11.7"
  }
 },
 "nbformat": 4,
 "nbformat_minor": 5
}
