{
 "cells": [
  {
   "cell_type": "code",
   "execution_count": null,
   "id": "1f8b86a0-28d2-415b-88f8-d15221dfb46a",
   "metadata": {},
   "outputs": [],
   "source": [
    "# we learned how to create Frequency table without method\n",
    "\n",
    "#"
   ]
  },
  {
   "cell_type": "code",
   "execution_count": 1,
   "id": "27e41976-9f2f-4b19-9b41-08a5c48e5606",
   "metadata": {},
   "outputs": [
    {
     "data": {
      "text/plain": [
       "continent\n",
       "Asia             16861\n",
       "Europe            3732\n",
       "North America     3292\n",
       "South America      852\n",
       "Africa             551\n",
       "Oceania            192\n",
       "Name: count, dtype: int64"
      ]
     },
     "execution_count": 1,
     "metadata": {},
     "output_type": "execute_result"
    }
   ],
   "source": [
    "import numpy as np\n",
    "import pandas as pd\n",
    "import matplotlib.pyplot as plt\n",
    "import seaborn as sns\n",
    "visadf= pd.read_csv('Visadataset.csv')\n",
    "visadf['continent'].value_counts()"
   ]
  },
  {
   "cell_type": "code",
   "execution_count": 2,
   "id": "2cf96389-c4d3-4ad9-bde8-b28fa048bb67",
   "metadata": {},
   "outputs": [
    {
     "data": {
      "text/plain": [
       "Index(['Asia', 'Europe', 'North America', 'South America', 'Africa',\n",
       "       'Oceania'],\n",
       "      dtype='object', name='continent')"
      ]
     },
     "execution_count": 2,
     "metadata": {},
     "output_type": "execute_result"
    }
   ],
   "source": [
    "visadf['continent'].value_counts().keys()"
   ]
  },
  {
   "cell_type": "code",
   "execution_count": 4,
   "id": "a61d37d5-5328-4dda-873b-99d8442b7257",
   "metadata": {},
   "outputs": [
    {
     "data": {
      "text/plain": [
       "array([16861,  3732,  3292,   852,   551,   192], dtype=int64)"
      ]
     },
     "execution_count": 4,
     "metadata": {},
     "output_type": "execute_result"
    }
   ],
   "source": [
    "visadf['continent'].value_counts().values"
   ]
  },
  {
   "cell_type": "code",
   "execution_count": 17,
   "id": "fcd6f43f-db2e-4e08-a9db-aed312a0da6d",
   "metadata": {},
   "outputs": [],
   "source": [
    "cont_data=visadf['continent'].value_counts()\n",
    "con_keys=cont_data.keys()\n",
    "cont_values=cont_data.values\n",
    "cols=['Continent','Number of Applicants']\n",
    "count_df1=pd.DataFrame(zip(con_keys,cont_values),columns=cols)\n",
    "count_df1.to_excel('HURRAYEXCELAUG30.xlsx',index=False)"
   ]
  },
  {
   "cell_type": "code",
   "execution_count": 23,
   "id": "28609b48-5414-46ac-af6f-c4cbaa848751",
   "metadata": {},
   "outputs": [
    {
     "ename": "NameError",
     "evalue": "name 'cat_cols' is not defined",
     "output_type": "error",
     "traceback": [
      "\u001b[1;31m---------------------------------------------------------------------------\u001b[0m",
      "\u001b[1;31mNameError\u001b[0m                                 Traceback (most recent call last)",
      "Cell \u001b[1;32mIn[23], line 1\u001b[0m\n\u001b[1;32m----> 1\u001b[0m \u001b[38;5;28;01mfor\u001b[39;00m i \u001b[38;5;129;01min\u001b[39;00m cat_cols[\u001b[38;5;241m1\u001b[39m:]:\n\u001b[0;32m      2\u001b[0m     \u001b[38;5;28mprint\u001b[39m(i)\n",
      "\u001b[1;31mNameError\u001b[0m: name 'cat_cols' is not defined"
     ]
    }
   ],
   "source": [
    "for i in cat_cols[1:]:\n",
    "    print(i)"
   ]
  },
  {
   "cell_type": "markdown",
   "id": "e192f2b5-ff6e-4e9e-8d8d-2e7920e8d4bc",
   "metadata": {},
   "source": [
    "**Method 2 :using forloop**"
   ]
  },
  {
   "cell_type": "code",
   "execution_count": 18,
   "id": "cebacd49-b7c6-4c4b-ad1c-c1f94b67b196",
   "metadata": {},
   "outputs": [],
   "source": [
    "count_labels=visadf['continent'].unique()\n",
    "count=[]\n",
    "for i in count_labels:\n",
    "    visadf['continent']\n",
    "    con=visadf['continent']==i\n",
    "    visadf[con]\n",
    "    count.append(len(visadf[con]))\n",
    "\n",
    "countdf2=pd.DataFrame(zip(count_labels,count),columns=['Continent','Number of Applicants'])\n",
    "countdf2.to_csv('HURRAYAUG30.csv',index=False)"
   ]
  },
  {
   "cell_type": "code",
   "execution_count": null,
   "id": "fbff55e3-47bc-4406-9b62-90ef3aebef71",
   "metadata": {},
   "outputs": [],
   "source": [
    "# unique will give: keys in sorting order\n",
    "# value counts give: values in sorting order"
   ]
  },
  {
   "cell_type": "code",
   "execution_count": null,
   "id": "6b6fd3e7-6533-4f5e-b0ec-96abbaf5a9ba",
   "metadata": {},
   "outputs": [],
   "source": [
    "**task-2**\n",
    "\n",
    "- create all categorical column frequency table usinng value_counts\n",
    "\n",
    "- usinng python create one directory with name **frequncy table**\n",
    "\n",
    "- you need to iterate each column , but each column has different labels \n",
    "\n",
    "- provide one column name as **Lable**\n",
    "\n",
    "- another column name as **count**"
   ]
  },
  {
   "cell_type": "code",
   "execution_count": null,
   "id": "a3312642-fc2d-4d93-a0ed-762b33551f68",
   "metadata": {},
   "outputs": [],
   "source": []
  },
  {
   "cell_type": "code",
   "execution_count": null,
   "id": "438effc4-707f-491a-9e8e-eeb525890503",
   "metadata": {},
   "outputs": [],
   "source": [
    "cont_data=visadf['continent'].value_counts()\n",
    "con_keys=cont_data.keys()\n",
    "cont_values=cont_data.values\n",
    "cols=['Continent','Number of Applicants']\n",
    "count_df1=pd.DataFrame(zip(con_keys,cont_values),columns=cols)\n",
    "count_df1.to_excel('HURRAYEXCELAUG30.xlsx',index=False)"
   ]
  },
  {
   "cell_type": "markdown",
   "id": "698fa993-5af3-4ee4-b574-54546210ad79",
   "metadata": {},
   "source": [
    "**create a folder**\n",
    "\n",
    "- Step 1: get current working directory\n",
    "\n",
    "- ste 2: what is your new folder name\n",
    "\n",
    "- step 3: join both\n",
    "\n",
    "- ste 4 : make directory"
   ]
  },
  {
   "cell_type": "code",
   "execution_count": 19,
   "id": "cf7dbdbd-55a2-43e2-a636-9fd2576bf773",
   "metadata": {},
   "outputs": [],
   "source": [
    "import os\n",
    "cwd=os.getcwd()\n",
    "folder_name='frequency_table'\n",
    "new_dir=os.path.join(cwd,folder_name)\n",
    "try:\n",
    "    os.makedirs(new_dir)\n",
    "except Exception as e:\n",
    "    print(e)"
   ]
  },
  {
   "cell_type": "code",
   "execution_count": 22,
   "id": "ba049dd1-bd98-4d20-b701-c0ebccb094ac",
   "metadata": {},
   "outputs": [
    {
     "ename": "NameError",
     "evalue": "name 'cat_cols' is not defined",
     "output_type": "error",
     "traceback": [
      "\u001b[1;31m---------------------------------------------------------------------------\u001b[0m",
      "\u001b[1;31mNameError\u001b[0m                                 Traceback (most recent call last)",
      "Cell \u001b[1;32mIn[22], line 1\u001b[0m\n\u001b[1;32m----> 1\u001b[0m \u001b[38;5;28;01mfor\u001b[39;00m i \u001b[38;5;129;01min\u001b[39;00m cat_cols[\u001b[38;5;241m1\u001b[39m:]:\n\u001b[0;32m      2\u001b[0m     \u001b[38;5;28mprint\u001b[39m(\u001b[38;5;124mf\u001b[39m\u001b[38;5;124m'\u001b[39m\u001b[38;5;132;01m{\u001b[39;00mnew_dir\u001b[38;5;132;01m}\u001b[39;00m\u001b[38;5;130;01m\\\\\u001b[39;00m\u001b[38;5;132;01m{\u001b[39;00mi\u001b[38;5;132;01m}\u001b[39;00m\u001b[38;5;124m_info.csv\u001b[39m\u001b[38;5;124m'\u001b[39m)\n",
      "\u001b[1;31mNameError\u001b[0m: name 'cat_cols' is not defined"
     ]
    }
   ],
   "source": [
    "for i in cat_cols[1:]:\n",
    "    print(f'{new_dir}\\\\{i}_info.csv')"
   ]
  },
  {
   "cell_type": "code",
   "execution_count": null,
   "id": "ce5dbcce-f5bf-463a-a458-dfa89d59fbc7",
   "metadata": {},
   "outputs": [],
   "source": []
  }
 ],
 "metadata": {
  "kernelspec": {
   "display_name": "Python 3 (ipykernel)",
   "language": "python",
   "name": "python3"
  },
  "language_info": {
   "codemirror_mode": {
    "name": "ipython",
    "version": 3
   },
   "file_extension": ".py",
   "mimetype": "text/x-python",
   "name": "python",
   "nbconvert_exporter": "python",
   "pygments_lexer": "ipython3",
   "version": "3.11.7"
  }
 },
 "nbformat": 4,
 "nbformat_minor": 5
}
