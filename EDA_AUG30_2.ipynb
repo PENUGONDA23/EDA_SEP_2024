{
 "cells": [
  {
   "cell_type": "code",
   "execution_count": 6,
   "id": "26d4837c-4274-4747-b55e-0d96fc26680c",
   "metadata": {},
   "outputs": [],
   "source": [
    "import pandas as pd\n",
    "import numpy as np\n",
    "import matplotlib.pyplot as plt\n",
    "import seaborn as sns\n",
    "\n",
    "visa_df=pd.read_csv('Visadataset.csv')\n",
    "cat_cols=visa_df.select_dtypes(include='object').columns\n",
    "num_cols=visa_df.select_dtypes(exclude='object').columns\n"
   ]
  },
  {
   "cell_type": "code",
   "execution_count": 8,
   "id": "7c45d4f9-d3be-449f-a2ac-296718fa0c5d",
   "metadata": {},
   "outputs": [
    {
     "data": {
      "text/html": [
       "<div>\n",
       "<style scoped>\n",
       "    .dataframe tbody tr th:only-of-type {\n",
       "        vertical-align: middle;\n",
       "    }\n",
       "\n",
       "    .dataframe tbody tr th {\n",
       "        vertical-align: top;\n",
       "    }\n",
       "\n",
       "    .dataframe thead th {\n",
       "        text-align: right;\n",
       "    }\n",
       "</style>\n",
       "<table border=\"1\" class=\"dataframe\">\n",
       "  <thead>\n",
       "    <tr style=\"text-align: right;\">\n",
       "      <th></th>\n",
       "      <th>Continent</th>\n",
       "      <th>Number of applicants</th>\n",
       "    </tr>\n",
       "  </thead>\n",
       "  <tbody>\n",
       "    <tr>\n",
       "      <th>0</th>\n",
       "      <td>Asia</td>\n",
       "      <td>16861</td>\n",
       "    </tr>\n",
       "    <tr>\n",
       "      <th>1</th>\n",
       "      <td>Europe</td>\n",
       "      <td>3732</td>\n",
       "    </tr>\n",
       "    <tr>\n",
       "      <th>2</th>\n",
       "      <td>North America</td>\n",
       "      <td>3292</td>\n",
       "    </tr>\n",
       "    <tr>\n",
       "      <th>3</th>\n",
       "      <td>South America</td>\n",
       "      <td>852</td>\n",
       "    </tr>\n",
       "    <tr>\n",
       "      <th>4</th>\n",
       "      <td>Africa</td>\n",
       "      <td>551</td>\n",
       "    </tr>\n",
       "    <tr>\n",
       "      <th>5</th>\n",
       "      <td>Oceania</td>\n",
       "      <td>192</td>\n",
       "    </tr>\n",
       "  </tbody>\n",
       "</table>\n",
       "</div>"
      ],
      "text/plain": [
       "       Continent  Number of applicants\n",
       "0           Asia                 16861\n",
       "1         Europe                  3732\n",
       "2  North America                  3292\n",
       "3  South America                   852\n",
       "4         Africa                   551\n",
       "5        Oceania                   192"
      ]
     },
     "execution_count": 8,
     "metadata": {},
     "output_type": "execute_result"
    }
   ],
   "source": [
    "#Frequency table\n",
    "#we have 2 methods\n",
    "#method-1 : using unique & for loop\n",
    "#method-2: using value counts(method)\n",
    "visa_df=pd.read_csv('Visadataset.csv')\n",
    "cont_data=visa_df['continent'].value_counts()\n",
    "con_keys=cont_data.keys()\n",
    "con_values=cont_data.values\n",
    "cols=['Continent','Number of applicants']\n",
    "cont_df1=pd.DataFrame(zip(con_keys,con_values),columns=cols)\n",
    "cont_df1\n"
   ]
  },
  {
   "cell_type": "code",
   "execution_count": null,
   "id": "039f243e-d5ef-4d89-b231-57dcc3bde25e",
   "metadata": {},
   "outputs": [],
   "source": [
    "#above codde cannot be repeated for repeated continents to export as excel\n"
   ]
  },
  {
   "cell_type": "code",
   "execution_count": 15,
   "id": "b1106495-1d25-47b1-97f2-527c7613e092",
   "metadata": {},
   "outputs": [],
   "source": [
    "import os\n",
    "folder='frequency_table_2'\n",
    "new_dir=os.path.join(os.getcwd(),folder)\n",
    "os.makedirs(new_dir)"
   ]
  },
  {
   "cell_type": "code",
   "execution_count": 13,
   "id": "12d3b49f-87d7-4231-9a8c-0b6795cbf672",
   "metadata": {},
   "outputs": [
    {
     "name": "stdout",
     "output_type": "stream",
     "text": [
      "C:\\Users\\aravi\\Documents\\DataFrameOperationsfrequency_table_2\\continent.csv\n",
      "C:\\Users\\aravi\\Documents\\DataFrameOperationsfrequency_table_2\\education_of_employee.csv\n",
      "C:\\Users\\aravi\\Documents\\DataFrameOperationsfrequency_table_2\\has_job_experience.csv\n",
      "C:\\Users\\aravi\\Documents\\DataFrameOperationsfrequency_table_2\\requires_job_training.csv\n",
      "C:\\Users\\aravi\\Documents\\DataFrameOperationsfrequency_table_2\\region_of_employment.csv\n",
      "C:\\Users\\aravi\\Documents\\DataFrameOperationsfrequency_table_2\\unit_of_wage.csv\n",
      "C:\\Users\\aravi\\Documents\\DataFrameOperationsfrequency_table_2\\full_time_position.csv\n",
      "C:\\Users\\aravi\\Documents\\DataFrameOperationsfrequency_table_2\\case_status.csv\n"
     ]
    }
   ],
   "source": [
    "for i in cat_cols[1:]:\n",
    "    print(f\"{new_dir}\\{i}.csv\")"
   ]
  },
  {
   "cell_type": "code",
   "execution_count": 14,
   "id": "0ee67939-603f-41d6-ae1d-6f73fec22e76",
   "metadata": {},
   "outputs": [],
   "source": [
    "for i in cat_cols[1:]:\n",
    "    data=visa_df[i].value_counts()\n",
    "    keys=data.keys()\n",
    "    values=data.values\n",
    "    cols=['Lables','Count']\n",
    "    df1=pd.DataFrame(zip(keys,values),columns=cols)\n",
    "    df1.to_csv(f'{new_dir}\\{i}_frequency_table.csv')"
   ]
  },
  {
   "cell_type": "code",
   "execution_count": null,
   "id": "50386a32-600f-45a8-b5a0-ab256766fc7f",
   "metadata": {},
   "outputs": [],
   "source": []
  },
  {
   "cell_type": "code",
   "execution_count": null,
   "id": "8435c3ec-d33a-42d8-a4ef-a50d8252760e",
   "metadata": {},
   "outputs": [],
   "source": []
  }
 ],
 "metadata": {
  "kernelspec": {
   "display_name": "Python 3 (ipykernel)",
   "language": "python",
   "name": "python3"
  },
  "language_info": {
   "codemirror_mode": {
    "name": "ipython",
    "version": 3
   },
   "file_extension": ".py",
   "mimetype": "text/x-python",
   "name": "python",
   "nbconvert_exporter": "python",
   "pygments_lexer": "ipython3",
   "version": "3.11.7"
  }
 },
 "nbformat": 4,
 "nbformat_minor": 5
}
